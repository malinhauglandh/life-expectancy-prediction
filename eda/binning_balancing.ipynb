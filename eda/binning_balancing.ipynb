{
 "cells": [
  {
   "cell_type": "code",
   "execution_count": 4,
   "metadata": {},
   "outputs": [
    {
     "name": "stdout",
     "output_type": "stream",
     "text": [
      "Collecting scikit-learn\n",
      "  Using cached scikit_learn-1.5.2-cp310-cp310-macosx_12_0_arm64.whl.metadata (13 kB)\n",
      "Requirement already satisfied: numpy>=1.19.5 in /opt/homebrew/lib/python3.10/site-packages (from scikit-learn) (2.1.3)\n",
      "Collecting scipy>=1.6.0 (from scikit-learn)\n",
      "  Using cached scipy-1.14.1-cp310-cp310-macosx_14_0_arm64.whl.metadata (60 kB)\n",
      "Collecting joblib>=1.2.0 (from scikit-learn)\n",
      "  Using cached joblib-1.4.2-py3-none-any.whl.metadata (5.4 kB)\n",
      "Collecting threadpoolctl>=3.1.0 (from scikit-learn)\n",
      "  Using cached threadpoolctl-3.5.0-py3-none-any.whl.metadata (13 kB)\n",
      "Using cached scikit_learn-1.5.2-cp310-cp310-macosx_12_0_arm64.whl (11.0 MB)\n",
      "Using cached joblib-1.4.2-py3-none-any.whl (301 kB)\n",
      "Using cached scipy-1.14.1-cp310-cp310-macosx_14_0_arm64.whl (23.1 MB)\n",
      "Using cached threadpoolctl-3.5.0-py3-none-any.whl (18 kB)\n",
      "Installing collected packages: threadpoolctl, scipy, joblib, scikit-learn\n",
      "Successfully installed joblib-1.4.2 scikit-learn-1.5.2 scipy-1.14.1 threadpoolctl-3.5.0\n",
      "\n",
      "\u001b[1m[\u001b[0m\u001b[34;49mnotice\u001b[0m\u001b[1;39;49m]\u001b[0m\u001b[39;49m A new release of pip is available: \u001b[0m\u001b[31;49m23.3.1\u001b[0m\u001b[39;49m -> \u001b[0m\u001b[32;49m24.3.1\u001b[0m\n",
      "\u001b[1m[\u001b[0m\u001b[34;49mnotice\u001b[0m\u001b[1;39;49m]\u001b[0m\u001b[39;49m To update, run: \u001b[0m\u001b[32;49mpython3.10 -m pip install --upgrade pip\u001b[0m\n",
      "Note: you may need to restart the kernel to use updated packages.\n"
     ]
    }
   ],
   "source": [
    "%pip install scikit-learn\n",
    "import pandas as pd\n",
    "import numpy as np\n",
    "from sklearn.utils import resample"
   ]
  },
  {
   "cell_type": "code",
   "execution_count": 9,
   "metadata": {},
   "outputs": [
    {
     "name": "stdout",
     "output_type": "stream",
     "text": [
      "Metrics for Unbalanced Data:\n",
      "MAE: 0.37302617801047033\n",
      "MSE: 0.2725273856893515\n",
      "R² Score: 0.9968681189204636\n",
      "\n",
      "Metrics for Balanced Data:\n",
      "MAE: 0.586027777777784\n",
      "MSE: 0.7017822944444458\n",
      "R² Score: 0.9958026441864478\n"
     ]
    }
   ],
   "source": [
    "from sklearn.metrics import r2_score, mean_absolute_error, mean_squared_error\n",
    "from sklearn.ensemble import RandomForestRegressor\n",
    "from sklearn.model_selection import train_test_split\n",
    "from sklearn.utils import resample\n",
    "import pandas as pd\n",
    "import numpy as np\n",
    "\n",
    "# Load data\n",
    "df = pd.read_csv('../data/data.csv')\n",
    "\n",
    "# Drop unwanted columns and define target\n",
    "X = df.drop(columns=['Life_expectancy', 'Country', 'Year', 'Region'])\n",
    "y = df['Life_expectancy']\n",
    "\n",
    "# Split unbalanced data\n",
    "X_train_un, X_test_un, y_train_un, y_test_un = train_test_split(X, y, test_size=0.2, random_state=1)\n",
    "\n",
    "# Initialize model\n",
    "model = RandomForestRegressor(random_state=1)\n",
    "\n",
    "# Train on unbalanced data\n",
    "model.fit(X_train_un, y_train_un)\n",
    "y_pred_un = model.predict(X_test_un)\n",
    "\n",
    "# Metrics for unbalanced data\n",
    "mae_un = mean_absolute_error(y_test_un, y_pred_un)\n",
    "mse_un = mean_squared_error(y_test_un, y_pred_un)\n",
    "r2_un = r2_score(y_test_un, y_pred_un)\n",
    "\n",
    "# Bin 'Life_expectancy' to balance data\n",
    "df['Life_expectancy_bin'] = pd.cut(y, bins=np.arange(40, 90, 5))\n",
    "\n",
    "# Resample to balance dataset\n",
    "balanced_data = pd.DataFrame()\n",
    "for life_bin in df['Life_expectancy_bin'].unique():\n",
    "    bin_data = df[df['Life_expectancy_bin'] == life_bin]\n",
    "    if len(bin_data) > 0:\n",
    "        bin_sample = resample(bin_data, replace=True, n_samples=100, random_state=1)\n",
    "        balanced_data = pd.concat([balanced_data, bin_sample])\n",
    "\n",
    "# Drop bin column and separate features and target for balanced data\n",
    "balanced_data = balanced_data.drop(columns=['Life_expectancy_bin'])\n",
    "X_balanced = balanced_data.drop(columns=['Life_expectancy', 'Country', 'Year', 'Region'])\n",
    "y_balanced = balanced_data['Life_expectancy']\n",
    "\n",
    "# Split balanced data\n",
    "X_train, X_test, y_train, y_test = train_test_split(X_balanced, y_balanced, test_size=0.2, random_state=1)\n",
    "\n",
    "# Train on balanced data\n",
    "model.fit(X_train, y_train)\n",
    "y_pred_bal = model.predict(X_test)\n",
    "\n",
    "# Metrics for balanced data\n",
    "mae_bal = mean_absolute_error(y_test, y_pred_bal)\n",
    "mse_bal = mean_squared_error(y_test, y_pred_bal)\n",
    "r2_bal = r2_score(y_test, y_pred_bal)\n",
    "\n",
    "# Print results\n",
    "print(\"Metrics for Unbalanced Data:\")\n",
    "print(\"MAE:\", mae_un)\n",
    "print(\"MSE:\", mse_un)\n",
    "print(\"R² Score:\", r2_un)\n",
    "\n",
    "print(\"\\nMetrics for Balanced Data:\")\n",
    "print(\"MAE:\", mae_bal)\n",
    "print(\"MSE:\", mse_bal)\n",
    "print(\"R² Score:\", r2_bal)\n"
   ]
  },
  {
   "cell_type": "code",
   "execution_count": null,
   "metadata": {},
   "outputs": [],
   "source": []
  }
 ],
 "metadata": {
  "kernelspec": {
   "display_name": "Python 3",
   "language": "python",
   "name": "python3"
  },
  "language_info": {
   "codemirror_mode": {
    "name": "ipython",
    "version": 3
   },
   "file_extension": ".py",
   "mimetype": "text/x-python",
   "name": "python",
   "nbconvert_exporter": "python",
   "pygments_lexer": "ipython3",
   "version": "3.10.13"
  }
 },
 "nbformat": 4,
 "nbformat_minor": 2
}
